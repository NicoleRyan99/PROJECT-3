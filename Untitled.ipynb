{
 "cells": [
  {
   "cell_type": "code",
   "execution_count": 6,
   "id": "794095bf-8d09-4f66-a4b8-7741878b5a3a",
   "metadata": {},
   "outputs": [
    {
     "name": "stdout",
     "output_type": "stream",
     "text": [
      "Note: you may need to restart the kernel to use updated packages.\n"
     ]
    },
    {
     "name": "stderr",
     "output_type": "stream",
     "text": [
      "WARNING: Ignoring invalid distribution -atplotlib (c:\\users\\alisa\\anaconda3\\lib\\site-packages)\n",
      "WARNING: Ignoring invalid distribution -atplotlib (c:\\users\\alisa\\anaconda3\\lib\\site-packages)\n",
      "ERROR: Could not find a version that satisfies the requirement mpl_toolkits (from versions: none)\n",
      "ERROR: No matching distribution found for mpl_toolkits\n",
      "WARNING: Ignoring invalid distribution -atplotlib (c:\\users\\alisa\\anaconda3\\lib\\site-packages)\n",
      "WARNING: Ignoring invalid distribution -atplotlib (c:\\users\\alisa\\anaconda3\\lib\\site-packages)\n",
      "WARNING: Ignoring invalid distribution -atplotlib (c:\\users\\alisa\\anaconda3\\lib\\site-packages)\n"
     ]
    }
   ],
   "source": [
    "pip install mpl_toolkits\n"
   ]
  },
  {
   "cell_type": "code",
   "execution_count": 2,
   "id": "2af9311a-556d-4f29-9c61-d0015c054ef1",
   "metadata": {},
   "outputs": [
    {
     "name": "stdout",
     "output_type": "stream",
     "text": [
      "Collecting matplotlib\n",
      "  Using cached matplotlib-3.5.2-cp39-cp39-win_amd64.whl (7.2 MB)\n",
      "Requirement already satisfied: numpy>=1.17 in c:\\users\\alisa\\anaconda3\\lib\\site-packages (from matplotlib) (1.20.3)\n",
      "Requirement already satisfied: pyparsing>=2.2.1 in c:\\users\\alisa\\anaconda3\\lib\\site-packages (from matplotlib) (3.0.4)\n",
      "Requirement already satisfied: python-dateutil>=2.7 in c:\\users\\alisa\\anaconda3\\lib\\site-packages (from matplotlib) (2.8.2)\n",
      "Requirement already satisfied: fonttools>=4.22.0 in c:\\users\\alisa\\anaconda3\\lib\\site-packages (from matplotlib) (4.25.0)\n",
      "Requirement already satisfied: pillow>=6.2.0 in c:\\users\\alisa\\anaconda3\\lib\\site-packages (from matplotlib) (8.4.0)\n",
      "Requirement already satisfied: packaging>=20.0 in c:\\users\\alisa\\anaconda3\\lib\\site-packages (from matplotlib) (21.0)\n",
      "Requirement already satisfied: kiwisolver>=1.0.1 in c:\\users\\alisa\\anaconda3\\lib\\site-packages (from matplotlib) (1.3.1)\n",
      "Requirement already satisfied: cycler>=0.10 in c:\\users\\alisa\\anaconda3\\lib\\site-packages (from matplotlib) (0.10.0)\n",
      "Requirement already satisfied: six in c:\\users\\alisa\\anaconda3\\lib\\site-packages (from cycler>=0.10->matplotlib) (1.16.0)\n",
      "Installing collected packages: matplotlib\n",
      "Successfully installed matplotlib-3.5.2\n",
      "Note: you may need to restart the kernel to use updated packages.\n"
     ]
    },
    {
     "name": "stderr",
     "output_type": "stream",
     "text": [
      "WARNING: Ignoring invalid distribution -atplotlib (c:\\users\\alisa\\anaconda3\\lib\\site-packages)\n",
      "WARNING: Ignoring invalid distribution -atplotlib (c:\\users\\alisa\\anaconda3\\lib\\site-packages)\n",
      "WARNING: Ignoring invalid distribution -atplotlib (c:\\users\\alisa\\anaconda3\\lib\\site-packages)\n",
      "WARNING: Ignoring invalid distribution -atplotlib (c:\\users\\alisa\\anaconda3\\lib\\site-packages)\n",
      "WARNING: Ignoring invalid distribution -atplotlib (c:\\users\\alisa\\anaconda3\\lib\\site-packages)\n",
      "WARNING: Ignoring invalid distribution -atplotlib (c:\\users\\alisa\\anaconda3\\lib\\site-packages)\n",
      "WARNING: Ignoring invalid distribution -atplotlib (c:\\users\\alisa\\anaconda3\\lib\\site-packages)\n"
     ]
    }
   ],
   "source": [
    "pip install --upgrade matplotlib"
   ]
  },
  {
   "cell_type": "code",
   "execution_count": 3,
   "id": "0a8a6a98-7883-48f3-972c-2fc0e9a0cbc0",
   "metadata": {},
   "outputs": [
    {
     "ename": "SyntaxError",
     "evalue": "invalid syntax (Temp/ipykernel_24460/1698177426.py, line 1)",
     "output_type": "error",
     "traceback": [
      "\u001b[1;36m  File \u001b[1;32m\"C:\\Users\\alisa\\AppData\\Local\\Temp/ipykernel_24460/1698177426.py\"\u001b[1;36m, line \u001b[1;32m1\u001b[0m\n\u001b[1;33m    install mpl_toolkits.clifford\u001b[0m\n\u001b[1;37m            ^\u001b[0m\n\u001b[1;31mSyntaxError\u001b[0m\u001b[1;31m:\u001b[0m invalid syntax\n"
     ]
    }
   ],
   "source": [
    "install mpl_toolkits.clifford"
   ]
  },
  {
   "cell_type": "code",
   "execution_count": 5,
   "id": "718b9d4e-a027-46d5-9f3a-89c01826d982",
   "metadata": {},
   "outputs": [
    {
     "name": "stdout",
     "output_type": "stream",
     "text": [
      "Collecting package metadata (current_repodata.json): ...working... done\n",
      "Solving environment: ...working... failed with initial frozen solve. Retrying with flexible solve.\n",
      "Collecting package metadata (repodata.json): ...working... done\n",
      "Solving environment: ...working... done\n",
      "\n",
      "## Package Plan ##\n",
      "\n",
      "  environment location: C:\\Users\\alisa\\anaconda3\n",
      "\n",
      "  added / updated specs:\n",
      "    - basemap-data-hires=1.0.8.dev0\n",
      "\n",
      "\n",
      "The following packages will be downloaded:\n",
      "\n",
      "    package                    |            build\n",
      "    ---------------------------|-----------------\n",
      "    basemap-1.2.2              |   py39h381b4b0_4        15.2 MB  conda-forge\n",
      "    basemap-data-hires-1.0.8.dev0|                2       105.4 MB  conda-forge\n",
      "    geos-3.9.1                 |       h39d44d4_2         1.1 MB  conda-forge\n",
      "    proj-8.0.1                 |       h1cfcee9_0         2.9 MB  conda-forge\n",
      "    pyproj-3.3.1               |   py39ha996c60_1         448 KB  conda-forge\n",
      "    pyshp-2.3.0                |     pyhd8ed1ab_0         862 KB  conda-forge\n",
      "    ------------------------------------------------------------\n",
      "                                           Total:       125.9 MB\n",
      "\n",
      "The following NEW packages will be INSTALLED:\n",
      "\n",
      "  basemap            conda-forge/win-64::basemap-1.2.2-py39h381b4b0_4\n",
      "  basemap-data-hires conda-forge/win-64::basemap-data-hires-1.0.8.dev0-2\n",
      "  geos               conda-forge/win-64::geos-3.9.1-h39d44d4_2\n",
      "  proj               conda-forge/win-64::proj-8.0.1-h1cfcee9_0\n",
      "  pyproj             conda-forge/win-64::pyproj-3.3.1-py39ha996c60_1\n",
      "  pyshp              conda-forge/noarch::pyshp-2.3.0-pyhd8ed1ab_0\n",
      "\n",
      "The following packages will be SUPERSEDED by a higher-priority channel:\n",
      "\n",
      "  conda              pkgs/main::conda-4.12.0-py39haa95532_0 --> conda-forge::conda-4.12.0-py39hcbf5309_0\n",
      "\n",
      "\n",
      "\n",
      "Downloading and Extracting Packages\n",
      "\n",
      "pyshp-2.3.0          | 862 KB    |            |   0% \n",
      "pyshp-2.3.0          | 862 KB    | 1          |   2% \n",
      "pyshp-2.3.0          | 862 KB    | ########## | 100% \n",
      "pyshp-2.3.0          | 862 KB    | ########## | 100% \n",
      "\n",
      "basemap-data-hires-1 | 105.4 MB  |            |   0% \n",
      "basemap-data-hires-1 | 105.4 MB  |            |   0% \n",
      "basemap-data-hires-1 | 105.4 MB  |            |   0% \n",
      "basemap-data-hires-1 | 105.4 MB  | 1          |   1% \n",
      "basemap-data-hires-1 | 105.4 MB  | 4          |   4% \n",
      "basemap-data-hires-1 | 105.4 MB  | 7          |   7% \n",
      "basemap-data-hires-1 | 105.4 MB  | #          |  11% \n",
      "basemap-data-hires-1 | 105.4 MB  | #3         |  14% \n",
      "basemap-data-hires-1 | 105.4 MB  | #7         |  17% \n",
      "basemap-data-hires-1 | 105.4 MB  | ##4        |  24% \n",
      "basemap-data-hires-1 | 105.4 MB  | ##7        |  28% \n",
      "basemap-data-hires-1 | 105.4 MB  | ###1       |  31% \n",
      "basemap-data-hires-1 | 105.4 MB  | ###6       |  37% \n",
      "basemap-data-hires-1 | 105.4 MB  | ####       |  40% \n",
      "basemap-data-hires-1 | 105.4 MB  | ####3      |  44% \n",
      "basemap-data-hires-1 | 105.4 MB  | ####7      |  47% \n",
      "basemap-data-hires-1 | 105.4 MB  | #####      |  51% \n",
      "basemap-data-hires-1 | 105.4 MB  | #####4     |  54% \n",
      "basemap-data-hires-1 | 105.4 MB  | #####7     |  58% \n",
      "basemap-data-hires-1 | 105.4 MB  | ######1    |  61% \n",
      "basemap-data-hires-1 | 105.4 MB  | ######4    |  64% \n",
      "basemap-data-hires-1 | 105.4 MB  | ######7    |  68% \n",
      "basemap-data-hires-1 | 105.4 MB  | #######1   |  71% \n",
      "basemap-data-hires-1 | 105.4 MB  | #######4   |  75% \n",
      "basemap-data-hires-1 | 105.4 MB  | #######8   |  78% \n",
      "basemap-data-hires-1 | 105.4 MB  | ########1  |  81% \n",
      "basemap-data-hires-1 | 105.4 MB  | ########4  |  85% \n",
      "basemap-data-hires-1 | 105.4 MB  | ########8  |  88% \n",
      "basemap-data-hires-1 | 105.4 MB  | #########1 |  91% \n",
      "basemap-data-hires-1 | 105.4 MB  | #########4 |  95% \n",
      "basemap-data-hires-1 | 105.4 MB  | #########8 |  98% \n",
      "basemap-data-hires-1 | 105.4 MB  | ########## | 100% \n",
      "\n",
      "geos-3.9.1           | 1.1 MB    |            |   0% \n",
      "geos-3.9.1           | 1.1 MB    | 1          |   1% \n",
      "geos-3.9.1           | 1.1 MB    | ########## | 100% \n",
      "geos-3.9.1           | 1.1 MB    | ########## | 100% \n",
      "\n",
      "proj-8.0.1           | 2.9 MB    |            |   0% \n",
      "proj-8.0.1           | 2.9 MB    |            |   1% \n",
      "proj-8.0.1           | 2.9 MB    | ###        |  31% \n",
      "proj-8.0.1           | 2.9 MB    | ########## | 100% \n",
      "proj-8.0.1           | 2.9 MB    | ########## | 100% \n",
      "\n",
      "pyproj-3.3.1         | 448 KB    |            |   0% \n",
      "pyproj-3.3.1         | 448 KB    | 3          |   4% \n",
      "pyproj-3.3.1         | 448 KB    | ########## | 100% \n",
      "pyproj-3.3.1         | 448 KB    | ########## | 100% \n",
      "\n",
      "basemap-1.2.2        | 15.2 MB   |            |   0% \n",
      "basemap-1.2.2        | 15.2 MB   |            |   0% \n",
      "basemap-1.2.2        | 15.2 MB   | 2          |   2% \n",
      "basemap-1.2.2        | 15.2 MB   | 4          |   5% \n",
      "basemap-1.2.2        | 15.2 MB   | 6          |   7% \n",
      "basemap-1.2.2        | 15.2 MB   | 8          |   8% \n",
      "basemap-1.2.2        | 15.2 MB   | #          |  10% \n",
      "basemap-1.2.2        | 15.2 MB   | #2         |  13% \n",
      "basemap-1.2.2        | 15.2 MB   | #4         |  15% \n",
      "basemap-1.2.2        | 15.2 MB   | #7         |  17% \n",
      "basemap-1.2.2        | 15.2 MB   | #9         |  19% \n",
      "basemap-1.2.2        | 15.2 MB   | ##1        |  22% \n",
      "basemap-1.2.2        | 15.2 MB   | ##3        |  24% \n",
      "basemap-1.2.2        | 15.2 MB   | ##5        |  26% \n",
      "basemap-1.2.2        | 15.2 MB   | ##7        |  28% \n",
      "basemap-1.2.2        | 15.2 MB   | ##9        |  30% \n",
      "basemap-1.2.2        | 15.2 MB   | ###1       |  31% \n",
      "basemap-1.2.2        | 15.2 MB   | ###3       |  33% \n",
      "basemap-1.2.2        | 15.2 MB   | ###4       |  35% \n",
      "basemap-1.2.2        | 15.2 MB   | ###6       |  37% \n",
      "basemap-1.2.2        | 15.2 MB   | ###8       |  38% \n",
      "basemap-1.2.2        | 15.2 MB   | ###9       |  40% \n",
      "basemap-1.2.2        | 15.2 MB   | ####1      |  42% \n",
      "basemap-1.2.2        | 15.2 MB   | ####3      |  43% \n",
      "basemap-1.2.2        | 15.2 MB   | ####5      |  45% \n",
      "basemap-1.2.2        | 15.2 MB   | ####6      |  47% \n",
      "basemap-1.2.2        | 15.2 MB   | ####8      |  48% \n",
      "basemap-1.2.2        | 15.2 MB   | #####      |  50% \n",
      "basemap-1.2.2        | 15.2 MB   | #####1     |  52% \n",
      "basemap-1.2.2        | 15.2 MB   | #####4     |  54% \n",
      "basemap-1.2.2        | 15.2 MB   | #####5     |  56% \n",
      "basemap-1.2.2        | 15.2 MB   | #####7     |  58% \n",
      "basemap-1.2.2        | 15.2 MB   | #####9     |  60% \n",
      "basemap-1.2.2        | 15.2 MB   | ######1    |  62% \n",
      "basemap-1.2.2        | 15.2 MB   | ######3    |  64% \n",
      "basemap-1.2.2        | 15.2 MB   | ######6    |  66% \n",
      "basemap-1.2.2        | 15.2 MB   | ######7    |  68% \n",
      "basemap-1.2.2        | 15.2 MB   | #######    |  70% \n",
      "basemap-1.2.2        | 15.2 MB   | #######1   |  72% \n",
      "basemap-1.2.2        | 15.2 MB   | #######3   |  74% \n",
      "basemap-1.2.2        | 15.2 MB   | #######5   |  75% \n",
      "basemap-1.2.2        | 15.2 MB   | #######7   |  77% \n",
      "basemap-1.2.2        | 15.2 MB   | #######8   |  79% \n",
      "basemap-1.2.2        | 15.2 MB   | ########4  |  84% \n",
      "basemap-1.2.2        | 15.2 MB   | ########6  |  87% \n",
      "basemap-1.2.2        | 15.2 MB   | ########8  |  89% \n",
      "basemap-1.2.2        | 15.2 MB   | #########  |  91% \n",
      "basemap-1.2.2        | 15.2 MB   | #########6 |  97% \n",
      "basemap-1.2.2        | 15.2 MB   | ########## | 100% \n",
      "basemap-1.2.2        | 15.2 MB   | ########## | 100% \n",
      "Preparing transaction: ...working... done\n",
      "Verifying transaction: ...working... done\n",
      "Executing transaction: ...working... done\n",
      "\n",
      "Note: you may need to restart the kernel to use updated packages.\n"
     ]
    },
    {
     "name": "stderr",
     "output_type": "stream",
     "text": [
      "\n",
      "\n",
      "==> WARNING: A newer version of conda exists. <==\n",
      "  current version: 4.12.0\n",
      "  latest version: 4.13.0\n",
      "\n",
      "Please update conda by running\n",
      "\n",
      "    $ conda update -n base -c defaults conda\n",
      "\n",
      "\n"
     ]
    }
   ],
   "source": [
    "conda install -c conda-forge basemap-data-hires=1.0.8.dev0\n"
   ]
  },
  {
   "cell_type": "code",
   "execution_count": null,
   "id": "79a8c712-bddf-4d7b-8709-7edcdbb2e04f",
   "metadata": {},
   "outputs": [],
   "source": [
    "conda install -c conda-forge proj4\n"
   ]
  },
  {
   "cell_type": "code",
   "execution_count": null,
   "id": "cb8c86b7-6667-49d9-be74-28d2eb4e2ab3",
   "metadata": {},
   "outputs": [],
   "source": [
    " conda update -n base -c defaults conda"
   ]
  },
  {
   "cell_type": "code",
   "execution_count": null,
   "id": "9155bd87-cd9c-4a03-978c-3be36cbfb2dd",
   "metadata": {},
   "outputs": [],
   "source": []
  }
 ],
 "metadata": {
  "kernelspec": {
   "display_name": "Python 3 (ipykernel)",
   "language": "python",
   "name": "python3"
  },
  "language_info": {
   "codemirror_mode": {
    "name": "ipython",
    "version": 3
   },
   "file_extension": ".py",
   "mimetype": "text/x-python",
   "name": "python",
   "nbconvert_exporter": "python",
   "pygments_lexer": "ipython3",
   "version": "3.9.7"
  }
 },
 "nbformat": 4,
 "nbformat_minor": 5
}
